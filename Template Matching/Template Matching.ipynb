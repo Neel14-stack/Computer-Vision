{
 "cells": [
  {
   "cell_type": "markdown",
   "metadata": {},
   "source": [
    "# Template Matching"
   ]
  },
  {
   "cell_type": "markdown",
   "metadata": {},
   "source": [
    "Import Required Library"
   ]
  },
  {
   "cell_type": "code",
   "execution_count": 1,
   "metadata": {},
   "outputs": [],
   "source": [
    "import cv2\n",
    "import numpy as np"
   ]
  },
  {
   "cell_type": "markdown",
   "metadata": {},
   "source": [
    "Load Input Image and Convert to Grayscale"
   ]
  },
  {
   "cell_type": "code",
   "execution_count": 2,
   "metadata": {},
   "outputs": [
    {
     "data": {
      "text/plain": [
       "-1"
      ]
     },
     "execution_count": 2,
     "metadata": {},
     "output_type": "execute_result"
    }
   ],
   "source": [
    "image = cv2.imread('input_image.jpg')\n",
    "cv2.imshow('My_Image',image)\n",
    "cv2.waitKey(0)"
   ]
  },
  {
   "cell_type": "code",
   "execution_count": 3,
   "metadata": {},
   "outputs": [],
   "source": [
    "gray = cv2.cvtColor(image,cv2.COLOR_BGR2GRAY)"
   ]
  },
  {
   "cell_type": "markdown",
   "metadata": {},
   "source": [
    "Load Bigger Image"
   ]
  },
  {
   "cell_type": "code",
   "execution_count": 4,
   "metadata": {},
   "outputs": [],
   "source": [
    "template = cv2.imread('img.jpg',0)"
   ]
  },
  {
   "cell_type": "code",
   "execution_count": 5,
   "metadata": {},
   "outputs": [],
   "source": [
    "result = cv2.matchTemplate(gray,template,cv2.TM_CCOEFF)"
   ]
  },
  {
   "cell_type": "code",
   "execution_count": 6,
   "metadata": {},
   "outputs": [],
   "source": [
    "min_val, max_val, min_loc, max_loc = cv2.minMaxLoc(result)"
   ]
  },
  {
   "cell_type": "markdown",
   "metadata": {},
   "source": [
    "Creating Bounding Box"
   ]
  },
  {
   "cell_type": "code",
   "execution_count": 7,
   "metadata": {},
   "outputs": [
    {
     "data": {
      "text/plain": [
       "array([[[235, 179,  84],\n",
       "        [235, 179,  84],\n",
       "        [235, 179,  84],\n",
       "        ...,\n",
       "        [235, 179,  84],\n",
       "        [235, 179,  84],\n",
       "        [235, 179,  84]],\n",
       "\n",
       "       [[235, 179,  84],\n",
       "        [235, 179,  84],\n",
       "        [235, 179,  84],\n",
       "        ...,\n",
       "        [235, 179,  84],\n",
       "        [235, 179,  84],\n",
       "        [235, 179,  84]],\n",
       "\n",
       "       [[235, 179,  84],\n",
       "        [235, 179,  84],\n",
       "        [235, 179,  84],\n",
       "        ...,\n",
       "        [235, 179,  84],\n",
       "        [235, 179,  84],\n",
       "        [235, 179,  84]],\n",
       "\n",
       "       ...,\n",
       "\n",
       "       [[235, 179,  84],\n",
       "        [235, 179,  84],\n",
       "        [235, 179,  84],\n",
       "        ...,\n",
       "        [235, 179,  84],\n",
       "        [235, 179,  84],\n",
       "        [235, 179,  84]],\n",
       "\n",
       "       [[235, 179,  84],\n",
       "        [235, 179,  84],\n",
       "        [235, 179,  84],\n",
       "        ...,\n",
       "        [235, 179,  84],\n",
       "        [235, 179,  84],\n",
       "        [235, 179,  84]],\n",
       "\n",
       "       [[235, 179,  84],\n",
       "        [235, 179,  84],\n",
       "        [235, 179,  84],\n",
       "        ...,\n",
       "        [235, 179,  84],\n",
       "        [235, 179,  84],\n",
       "        [235, 179,  84]]], dtype=uint8)"
      ]
     },
     "execution_count": 7,
     "metadata": {},
     "output_type": "execute_result"
    }
   ],
   "source": [
    "top_left = max_loc\n",
    "bottom_right = (top_left[0] + 50, top_left[1] + 50)\n",
    "cv2.rectangle(image, top_left, bottom_right, (0,0,255), 5)"
   ]
  },
  {
   "cell_type": "code",
   "execution_count": 8,
   "metadata": {},
   "outputs": [],
   "source": [
    "cv2.imshow('My_Image',image)\n",
    "cv2.waitKey(0)\n",
    "cv2.destroyAllWindows()"
   ]
  }
 ],
 "metadata": {
  "kernelspec": {
   "display_name": "Python 3",
   "language": "python",
   "name": "python3"
  },
  "language_info": {
   "codemirror_mode": {
    "name": "ipython",
    "version": 3
   },
   "file_extension": ".py",
   "mimetype": "text/x-python",
   "name": "python",
   "nbconvert_exporter": "python",
   "pygments_lexer": "ipython3",
   "version": "3.7.8"
  }
 },
 "nbformat": 4,
 "nbformat_minor": 4
}
